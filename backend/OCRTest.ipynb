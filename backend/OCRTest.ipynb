{
 "cells": [
  {
   "cell_type": "code",
   "execution_count": null,
   "id": "61881a5f",
   "metadata": {
    "vscode": {
     "languageId": "plaintext"
    }
   },
   "outputs": [],
   "source": [
    "!python -m pip install paddlepaddle==3.1.0 -i https://www.paddlepaddle.org.cn/packages/stable/cpu/\n",
    "!pip install paddleocr"
   ]
  },
  {
   "cell_type": "code",
   "execution_count": null,
   "id": "170c5c8e",
   "metadata": {
    "vscode": {
     "languageId": "plaintext"
    }
   },
   "outputs": [],
   "source": [
    "from paddleocr import PaddleOCR\n",
    "import cv2\n",
    "from matplotlib import pyplot as plt\n",
    "# Initialize OCR\n",
    "ocr = PaddleOCR(\n",
    "    use_doc_orientation_classify=False,\n",
    "    use_doc_unwarping=False,\n",
    "    use_textline_orientation=False)\n",
    "\n",
    "img_path = \"images/20230812_210244_jpg.rf.a2373a15c967eb6a157295e74fc71f45.jpg\"\n",
    "img = cv2.imread(img_path)\n",
    "\n",
    "plt.figure()\n",
    "plt.imshow(img)\n",
    "plt.show\n",
    "# Run OCR\n",
    "result = ocr.predict(img_path)\n",
    "\n",
    "# Extract text and confidence\n",
    "for page in result:\n",
    "    texts = page.get('rec_texts', [])\n",
    "    scores = page.get('rec_scores', [])\n",
    "    \n",
    "    print(\"\\nOCR Results:\")\n",
    "    for text, score in zip(texts, scores):\n",
    "        print(f\"→ {text} (confidence: {round(score, 2)})\")"
   ]
  }
 ],
 "metadata": {
  "language_info": {
   "name": "python"
  }
 },
 "nbformat": 4,
 "nbformat_minor": 5
}
